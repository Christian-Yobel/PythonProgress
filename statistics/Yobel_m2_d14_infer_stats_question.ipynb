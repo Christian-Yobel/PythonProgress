{
 "cells": [
  {
   "attachments": {},
   "cell_type": "markdown",
   "metadata": {},
   "source": [
    "## **Modul 2: Data Analysis - Inferential Statistics**"
   ]
  },
  {
   "attachments": {},
   "cell_type": "markdown",
   "metadata": {},
   "source": [
    "### **Pemahaman Materi**"
   ]
  },
  {
   "attachments": {},
   "cell_type": "markdown",
   "metadata": {},
   "source": [
    "### **1. One tail vs Two tail**\n",
    "\n",
    "Jika kita ingin melakukan eksperimen atau survey untuk membuktikan pertanyaan di bawah ini, uji apa yang lebih cocok (One tail test atau Two tail test)?\n",
    "\n",
    "1.\tApakah rata-rata tinggi orang Indonesia pada tahun 2000 dan 2020 berbeda?\n",
    "2.\tApakah rata-rata nilai IELTS sekolah international di Jakarta lebih besar dari sekolah umum?\n",
    "3.\tApakah orang yang rajin oleh raga sepeda memiliki kadar lemak tubuh lebih rendah dari orang yang jarang olah raga?  \n",
    "4.\tApakah rata-rata satu karung kecil beras yang diproduksi oleh Company A adalah 5.000g?   \n",
    "5.\tApakah jumlah siswa yang lulus UN tahun 2010 ada 95%? \n",
    "\n"
   ]
  },
  {
   "cell_type": "markdown",
   "metadata": {},
   "source": [
    "1. Two tail is more appropriate to find out if there is a difference, because the answer could be either higher or lower\n",
    "2. One tail because the test is only checking in one direction, higher or not.\n",
    "3. One tail because the test is only checking in one direction, lower or not.\n",
    "4. Two tail because the bag of rice could be higher or lower\n",
    "5. One tail, because finding if at least more than 95% of student graduate use greater than."
   ]
  },
  {
   "attachments": {},
   "cell_type": "markdown",
   "metadata": {},
   "source": [
    "### **2. Uji Statistik / Hypotheses Testing**\n",
    "1.\tDari 5 provider internet di Indonesia, apakah semuanya memiliki rata-rata penghasilan yang sama di tahun 2020?\n",
    "2.\tApakah orang yang rajin oleh raga sepeda memiliki kadar lemak tubuh lebih rendah dari sebelum mereka berolah raga?\n",
    "3.\tApakah orang yang rajin oleh raga sepeda memiliki kadar lemak tubuh lebih rendah dari orang yang jarang olah raga?  \n",
    "4.\tApakah rata-rata satu karung kecil beras yang diproduksi oleh Company A adalah 5.000g?   \n",
    "5.\tApakah jumlah siswa yang lulus UN tahun 2010 ada 95%? "
   ]
  },
  {
   "cell_type": "markdown",
   "metadata": {},
   "source": [
    "1. ANOVA test because we're comparing more than 2 groups of data with cat and num data.\n",
    "2. paired t test because the data is cat and num, and there's two different but related group of cat.\n",
    "3. Two sample t test because the data is cat and num, and there's two different group cat.\n",
    "4. One sample t test because the data is cat and num, but there's only one group of data.\n",
    "5. One sample Z test because we're looking for proportion of cat data and there's only one group of data."
   ]
  },
  {
   "attachments": {},
   "cell_type": "markdown",
   "metadata": {},
   "source": [
    "Load dataset all_cars.csv\n",
    "\n",
    "### 3. Apakah data pada kolom price berdasarkan brand Audi, Toyota, Hyundai terdistribusi normal atau tidak? Buktikan dengan Uji Normalitas!"
   ]
  },
  {
   "cell_type": "code",
   "execution_count": null,
   "metadata": {},
   "outputs": [
    {
     "data": {
      "text/html": [
       "<div>\n",
       "<style scoped>\n",
       "    .dataframe tbody tr th:only-of-type {\n",
       "        vertical-align: middle;\n",
       "    }\n",
       "\n",
       "    .dataframe tbody tr th {\n",
       "        vertical-align: top;\n",
       "    }\n",
       "\n",
       "    .dataframe thead th {\n",
       "        text-align: right;\n",
       "    }\n",
       "</style>\n",
       "<table border=\"1\" class=\"dataframe\">\n",
       "  <thead>\n",
       "    <tr style=\"text-align: right;\">\n",
       "      <th></th>\n",
       "      <th>brand</th>\n",
       "      <th>model</th>\n",
       "      <th>year</th>\n",
       "      <th>price</th>\n",
       "      <th>transmission</th>\n",
       "      <th>mileage</th>\n",
       "      <th>fuelType</th>\n",
       "      <th>tax</th>\n",
       "      <th>mpg</th>\n",
       "      <th>engineSize</th>\n",
       "    </tr>\n",
       "  </thead>\n",
       "  <tbody>\n",
       "    <tr>\n",
       "      <th>0</th>\n",
       "      <td>Audi</td>\n",
       "      <td>A1</td>\n",
       "      <td>2017</td>\n",
       "      <td>12500</td>\n",
       "      <td>Manual</td>\n",
       "      <td>15735</td>\n",
       "      <td>Petrol</td>\n",
       "      <td>150</td>\n",
       "      <td>55.4</td>\n",
       "      <td>1.4</td>\n",
       "    </tr>\n",
       "    <tr>\n",
       "      <th>1</th>\n",
       "      <td>Audi</td>\n",
       "      <td>A6</td>\n",
       "      <td>2016</td>\n",
       "      <td>16500</td>\n",
       "      <td>Automatic</td>\n",
       "      <td>36203</td>\n",
       "      <td>Diesel</td>\n",
       "      <td>20</td>\n",
       "      <td>64.2</td>\n",
       "      <td>2.0</td>\n",
       "    </tr>\n",
       "    <tr>\n",
       "      <th>2</th>\n",
       "      <td>Audi</td>\n",
       "      <td>A1</td>\n",
       "      <td>2016</td>\n",
       "      <td>11000</td>\n",
       "      <td>Manual</td>\n",
       "      <td>29946</td>\n",
       "      <td>Petrol</td>\n",
       "      <td>30</td>\n",
       "      <td>55.4</td>\n",
       "      <td>1.4</td>\n",
       "    </tr>\n",
       "    <tr>\n",
       "      <th>3</th>\n",
       "      <td>Audi</td>\n",
       "      <td>A4</td>\n",
       "      <td>2017</td>\n",
       "      <td>16800</td>\n",
       "      <td>Automatic</td>\n",
       "      <td>25952</td>\n",
       "      <td>Diesel</td>\n",
       "      <td>145</td>\n",
       "      <td>67.3</td>\n",
       "      <td>2.0</td>\n",
       "    </tr>\n",
       "    <tr>\n",
       "      <th>4</th>\n",
       "      <td>Audi</td>\n",
       "      <td>A3</td>\n",
       "      <td>2019</td>\n",
       "      <td>17300</td>\n",
       "      <td>Manual</td>\n",
       "      <td>1998</td>\n",
       "      <td>Petrol</td>\n",
       "      <td>145</td>\n",
       "      <td>49.6</td>\n",
       "      <td>1.0</td>\n",
       "    </tr>\n",
       "    <tr>\n",
       "      <th>...</th>\n",
       "      <td>...</td>\n",
       "      <td>...</td>\n",
       "      <td>...</td>\n",
       "      <td>...</td>\n",
       "      <td>...</td>\n",
       "      <td>...</td>\n",
       "      <td>...</td>\n",
       "      <td>...</td>\n",
       "      <td>...</td>\n",
       "      <td>...</td>\n",
       "    </tr>\n",
       "    <tr>\n",
       "      <th>22261</th>\n",
       "      <td>Toyota</td>\n",
       "      <td>IQ</td>\n",
       "      <td>2011</td>\n",
       "      <td>5500</td>\n",
       "      <td>Automatic</td>\n",
       "      <td>30000</td>\n",
       "      <td>Petrol</td>\n",
       "      <td>20</td>\n",
       "      <td>58.9</td>\n",
       "      <td>1.0</td>\n",
       "    </tr>\n",
       "    <tr>\n",
       "      <th>22262</th>\n",
       "      <td>Toyota</td>\n",
       "      <td>Urban Cruiser</td>\n",
       "      <td>2011</td>\n",
       "      <td>4985</td>\n",
       "      <td>Manual</td>\n",
       "      <td>36154</td>\n",
       "      <td>Petrol</td>\n",
       "      <td>125</td>\n",
       "      <td>50.4</td>\n",
       "      <td>1.3</td>\n",
       "    </tr>\n",
       "    <tr>\n",
       "      <th>22263</th>\n",
       "      <td>Toyota</td>\n",
       "      <td>Urban Cruiser</td>\n",
       "      <td>2012</td>\n",
       "      <td>4995</td>\n",
       "      <td>Manual</td>\n",
       "      <td>46000</td>\n",
       "      <td>Diesel</td>\n",
       "      <td>125</td>\n",
       "      <td>57.6</td>\n",
       "      <td>1.4</td>\n",
       "    </tr>\n",
       "    <tr>\n",
       "      <th>22264</th>\n",
       "      <td>Toyota</td>\n",
       "      <td>Urban Cruiser</td>\n",
       "      <td>2011</td>\n",
       "      <td>3995</td>\n",
       "      <td>Manual</td>\n",
       "      <td>60700</td>\n",
       "      <td>Petrol</td>\n",
       "      <td>125</td>\n",
       "      <td>50.4</td>\n",
       "      <td>1.3</td>\n",
       "    </tr>\n",
       "    <tr>\n",
       "      <th>22265</th>\n",
       "      <td>Toyota</td>\n",
       "      <td>Urban Cruiser</td>\n",
       "      <td>2011</td>\n",
       "      <td>4495</td>\n",
       "      <td>Manual</td>\n",
       "      <td>45128</td>\n",
       "      <td>Petrol</td>\n",
       "      <td>125</td>\n",
       "      <td>50.4</td>\n",
       "      <td>1.3</td>\n",
       "    </tr>\n",
       "  </tbody>\n",
       "</table>\n",
       "<p>22266 rows × 10 columns</p>\n",
       "</div>"
      ],
      "text/plain": [
       "        brand          model  year  price transmission  mileage fuelType  tax  \\\n",
       "0        Audi             A1  2017  12500       Manual    15735   Petrol  150   \n",
       "1        Audi             A6  2016  16500    Automatic    36203   Diesel   20   \n",
       "2        Audi             A1  2016  11000       Manual    29946   Petrol   30   \n",
       "3        Audi             A4  2017  16800    Automatic    25952   Diesel  145   \n",
       "4        Audi             A3  2019  17300       Manual     1998   Petrol  145   \n",
       "...       ...            ...   ...    ...          ...      ...      ...  ...   \n",
       "22261  Toyota             IQ  2011   5500    Automatic    30000   Petrol   20   \n",
       "22262  Toyota  Urban Cruiser  2011   4985       Manual    36154   Petrol  125   \n",
       "22263  Toyota  Urban Cruiser  2012   4995       Manual    46000   Diesel  125   \n",
       "22264  Toyota  Urban Cruiser  2011   3995       Manual    60700   Petrol  125   \n",
       "22265  Toyota  Urban Cruiser  2011   4495       Manual    45128   Petrol  125   \n",
       "\n",
       "        mpg  engineSize  \n",
       "0      55.4         1.4  \n",
       "1      64.2         2.0  \n",
       "2      55.4         1.4  \n",
       "3      67.3         2.0  \n",
       "4      49.6         1.0  \n",
       "...     ...         ...  \n",
       "22261  58.9         1.0  \n",
       "22262  50.4         1.3  \n",
       "22263  57.6         1.4  \n",
       "22264  50.4         1.3  \n",
       "22265  50.4         1.3  \n",
       "\n",
       "[22266 rows x 10 columns]"
      ]
     },
     "execution_count": 3,
     "metadata": {},
     "output_type": "execute_result"
    }
   ],
   "source": [
    "import numpy as np\n",
    "import pandas as pd\n",
    "import seaborn as sns\n",
    "import matplotlib.pyplot as plt\n",
    "\n",
    "df = pd.read_csv('all_cars.csv')\n",
    "df"
   ]
  },
  {
   "cell_type": "code",
   "execution_count": null,
   "metadata": {},
   "outputs": [
    {
     "name": "stdout",
     "output_type": "stream",
     "text": [
      "4860\n"
     ]
    }
   ],
   "source": [
    "audi = df[df['brand'] == 'Audi']\n",
    "toyota = df[df['brand'] == 'Toyota']\n",
    "hyundai = df[df['brand'] == 'Hyundai']\n"
   ]
  },
  {
   "cell_type": "code",
   "execution_count": null,
   "metadata": {},
   "outputs": [],
   "source": [
    "from scipy import stats as st\n",
    "\n",
    "audi_stats, audi_pvalue = st.normaltest(audi['price'])\n",
    "toyota_stats, toyota_pvalue = st.normaltest(toyota['price'])\n",
    "hyundai_stats, hyundai_pvalue = st.normaltest(hyundai['price'])"
   ]
  },
  {
   "cell_type": "code",
   "execution_count": null,
   "metadata": {},
   "outputs": [
    {
     "name": "stdout",
     "output_type": "stream",
     "text": [
      "Audi Data is not distributed Normally\n",
      "pvalue =  0.0\n",
      "Toyota Data is not distributed Normally\n",
      "pvalue =  0.0\n",
      "Hyundai Data is not distributed Normally\n",
      "pvalue =  0.0\n"
     ]
    }
   ],
   "source": [
    "if audi_pvalue > 0.05:\n",
    "    print('Audi Data have normal distribution')\n",
    "    print('pvalue = ', audi_pvalue)\n",
    "else:\n",
    "    print('Audi Data is not distributed Normally')\n",
    "    print('pvalue = ', audi_pvalue)\n",
    "\n",
    "if toyota_pvalue > 0.05:\n",
    "    print('Toyota Data have normal distribution')\n",
    "    print('pvalue = ', toyota_pvalue)\n",
    "else:\n",
    "    print('Toyota Data is not distributed Normally')\n",
    "    print('pvalue = ', toyota_pvalue)\n",
    "\n",
    "if hyundai_pvalue > 0.05:\n",
    "    print('Hyundai Data have normal distribution')\n",
    "    print('pvalue = ', hyundai_pvalue)\n",
    "else:\n",
    "    print('Hyundai Data is not distributed Normally')\n",
    "    print('pvalue = ', hyundai_pvalue)"
   ]
  },
  {
   "attachments": {},
   "cell_type": "markdown",
   "metadata": {},
   "source": [
    "### 4. Buat sebuah dataframe berisi mobil Hyundai dan Toyota tahun 2019! Dari dataframe yang telah dibuat, lakukan uji hipotesis untuk membuktikan apakah brand mobil ada kaitannya dengan jenis transmisi!"
   ]
  },
  {
   "cell_type": "code",
   "execution_count": null,
   "metadata": {},
   "outputs": [
    {
     "data": {
      "text/html": [
       "<div>\n",
       "<style scoped>\n",
       "    .dataframe tbody tr th:only-of-type {\n",
       "        vertical-align: middle;\n",
       "    }\n",
       "\n",
       "    .dataframe tbody tr th {\n",
       "        vertical-align: top;\n",
       "    }\n",
       "\n",
       "    .dataframe thead th {\n",
       "        text-align: right;\n",
       "    }\n",
       "</style>\n",
       "<table border=\"1\" class=\"dataframe\">\n",
       "  <thead>\n",
       "    <tr style=\"text-align: right;\">\n",
       "      <th>transmission</th>\n",
       "      <th>Automatic</th>\n",
       "      <th>Manual</th>\n",
       "      <th>Semi-Auto</th>\n",
       "    </tr>\n",
       "    <tr>\n",
       "      <th>brand</th>\n",
       "      <th></th>\n",
       "      <th></th>\n",
       "      <th></th>\n",
       "    </tr>\n",
       "  </thead>\n",
       "  <tbody>\n",
       "    <tr>\n",
       "      <th>Hyundai</th>\n",
       "      <td>185</td>\n",
       "      <td>695</td>\n",
       "      <td>206</td>\n",
       "    </tr>\n",
       "    <tr>\n",
       "      <th>Toyota</th>\n",
       "      <td>470</td>\n",
       "      <td>764</td>\n",
       "      <td>52</td>\n",
       "    </tr>\n",
       "  </tbody>\n",
       "</table>\n",
       "</div>"
      ],
      "text/plain": [
       "transmission  Automatic  Manual  Semi-Auto\n",
       "brand                                     \n",
       "Hyundai             185     695        206\n",
       "Toyota              470     764         52"
      ]
     },
     "execution_count": 91,
     "metadata": {},
     "output_type": "execute_result"
    }
   ],
   "source": [
    "new_df = df[(df['brand'].isin(['Hyundai', 'Toyota'])) & (df['year'] == 2019)]\n",
    "pivot_df = pd.pivot_table(data = new_df,\n",
    "            index = 'brand',\n",
    "            columns = 'transmission',\n",
    "            aggfunc = 'size')\n",
    "pivot_df"
   ]
  },
  {
   "cell_type": "code",
   "execution_count": null,
   "metadata": {},
   "outputs": [
    {
     "data": {
      "text/html": [
       "<div>\n",
       "<style scoped>\n",
       "    .dataframe tbody tr th:only-of-type {\n",
       "        vertical-align: middle;\n",
       "    }\n",
       "\n",
       "    .dataframe tbody tr th {\n",
       "        vertical-align: top;\n",
       "    }\n",
       "\n",
       "    .dataframe thead th {\n",
       "        text-align: right;\n",
       "    }\n",
       "</style>\n",
       "<table border=\"1\" class=\"dataframe\">\n",
       "  <thead>\n",
       "    <tr style=\"text-align: right;\">\n",
       "      <th></th>\n",
       "      <th>brand</th>\n",
       "      <th>model</th>\n",
       "      <th>year</th>\n",
       "      <th>price</th>\n",
       "      <th>transmission</th>\n",
       "      <th>mileage</th>\n",
       "      <th>fuelType</th>\n",
       "      <th>tax</th>\n",
       "      <th>mpg</th>\n",
       "      <th>engineSize</th>\n",
       "    </tr>\n",
       "  </thead>\n",
       "  <tbody>\n",
       "    <tr>\n",
       "      <th>15407</th>\n",
       "      <td>Hyundai</td>\n",
       "      <td>Ioniq</td>\n",
       "      <td>2017</td>\n",
       "      <td>12495</td>\n",
       "      <td>Other</td>\n",
       "      <td>27779</td>\n",
       "      <td>Hybrid</td>\n",
       "      <td>0</td>\n",
       "      <td>78.5</td>\n",
       "      <td>1.6</td>\n",
       "    </tr>\n",
       "    <tr>\n",
       "      <th>15429</th>\n",
       "      <td>Hyundai</td>\n",
       "      <td>Tucson</td>\n",
       "      <td>2017</td>\n",
       "      <td>16995</td>\n",
       "      <td>Other</td>\n",
       "      <td>25915</td>\n",
       "      <td>Petrol</td>\n",
       "      <td>145</td>\n",
       "      <td>39.8</td>\n",
       "      <td>1.6</td>\n",
       "    </tr>\n",
       "    <tr>\n",
       "      <th>17986</th>\n",
       "      <td>Toyota</td>\n",
       "      <td>Yaris</td>\n",
       "      <td>2015</td>\n",
       "      <td>12795</td>\n",
       "      <td>Other</td>\n",
       "      <td>16733</td>\n",
       "      <td>Hybrid</td>\n",
       "      <td>0</td>\n",
       "      <td>78.0</td>\n",
       "      <td>1.5</td>\n",
       "    </tr>\n",
       "  </tbody>\n",
       "</table>\n",
       "</div>"
      ],
      "text/plain": [
       "         brand   model  year  price transmission  mileage fuelType  tax   mpg  \\\n",
       "15407  Hyundai   Ioniq  2017  12495        Other    27779   Hybrid    0  78.5   \n",
       "15429  Hyundai  Tucson  2017  16995        Other    25915   Petrol  145  39.8   \n",
       "17986   Toyota   Yaris  2015  12795        Other    16733   Hybrid    0  78.0   \n",
       "\n",
       "       engineSize  \n",
       "15407         1.6  \n",
       "15429         1.6  \n",
       "17986         1.5  "
      ]
     },
     "execution_count": 95,
     "metadata": {},
     "output_type": "execute_result"
    }
   ],
   "source": [
    "df[df['transmission'] == 'Other']"
   ]
  },
  {
   "cell_type": "code",
   "execution_count": null,
   "metadata": {},
   "outputs": [
    {
     "data": {
      "text/plain": [
       "<Axes: xlabel='brand'>"
      ]
     },
     "execution_count": 34,
     "metadata": {},
     "output_type": "execute_result"
    },
    {
     "data": {
      "image/png": "[encoded data removed]",
      "text/plain": [
       "<Figure size 640x480 with 1 Axes>"
      ]
     },
     "metadata": {},
     "output_type": "display_data"
    }
   ],
   "source": [
    "'''\n",
    "Hypotheses:\n",
    "Ho : There is no association between the car brand and their car's transmission type\n",
    "Ha : There is a connection between the car brand and their car's transmission type\n",
    "'''\n",
    "\n",
    "pivot_df.plot(kind='bar')"
   ]
  },
  {
   "cell_type": "code",
   "execution_count": null,
   "metadata": {},
   "outputs": [],
   "source": [
    "stats, pvalue, dof, n = st.chi2_contingency(pivot_df)"
   ]
  },
  {
   "cell_type": "code",
   "execution_count": null,
   "metadata": {},
   "outputs": [
    {
     "name": "stdout",
     "output_type": "stream",
     "text": [
      "Pvalue = 5.623815000905951e-45. Pvalue < 0.05. Failed to reject the Ho.\n",
      "          There is enough evidence to prove that there is a connection between car's brand and their transmission type.\n"
     ]
    }
   ],
   "source": [
    "# conclusion\n",
    "if pvalue > 0.05:\n",
    "    # Ho\n",
    "    print(f\"\"\"Pvalue = {pvalue}. Pvalue > 0.05. Failed to reject the Ho.\n",
    "          Not enough evidence to prove that there is a connection between car's brand and their transmission type.\"\"\")\n",
    "    \n",
    "else:\n",
    "    # Ha\n",
    "    print(f\"\"\"Pvalue = {pvalue}. Pvalue < 0.05. Failed to reject the Ho.\n",
    "          There is enough evidence to prove that there is a connection between car's brand and their transmission type.\"\"\")"
   ]
  },
  {
   "attachments": {},
   "cell_type": "markdown",
   "metadata": {},
   "source": [
    "### 5. Apakah 50% dari seluruh mobil yang dijual menggunakan bahan bakar Petrol? Buktikan dengan uji statistik!"
   ]
  },
  {
   "cell_type": "markdown",
   "metadata": {},
   "source": [
    "### Point Estimate with Confidence Interval"
   ]
  },
  {
   "cell_type": "code",
   "execution_count": null,
   "metadata": {},
   "outputs": [
    {
     "data": {
      "text/plain": [
       "fuelType\n",
       "Diesel     7688\n",
       "Hybrid     2420\n",
       "Other       106\n",
       "Petrol    12052\n",
       "Name: model, dtype: int64"
      ]
     },
     "execution_count": 105,
     "metadata": {},
     "output_type": "execute_result"
    }
   ],
   "source": [
    "petrol = df.groupby('fuelType')['model'].count()\n",
    "petrol"
   ]
  },
  {
   "cell_type": "code",
   "execution_count": null,
   "metadata": {},
   "outputs": [],
   "source": [
    "mean_sample = petrol.loc['Petrol']/petrol['model'].sum()"
   ]
  },
  {
   "cell_type": "code",
   "execution_count": null,
   "metadata": {},
   "outputs": [
    {
     "data": {
      "text/plain": [
       "np.int64(12052)"
      ]
     },
     "execution_count": 121,
     "metadata": {},
     "output_type": "execute_result"
    }
   ],
   "source": [
    "petrol.loc['Petrol']"
   ]
  },
  {
   "cell_type": "code",
   "execution_count": null,
   "metadata": {},
   "outputs": [],
   "source": [
    "from scipy.stats import entropy"
   ]
  },
  {
   "cell_type": "code",
   "execution_count": null,
   "metadata": {},
   "outputs": [
    {
     "data": {
      "text/plain": [
       "np.float64(0.9660834587385694)"
      ]
     },
     "execution_count": 129,
     "metadata": {},
     "output_type": "execute_result"
    }
   ],
   "source": [
    "proportions = petrol / petrol.sum()\n",
    "entropy_value = entropy(proportions)\n",
    "entropy_value"
   ]
  },
  {
   "cell_type": "code",
   "execution_count": null,
   "metadata": {},
   "outputs": [
    {
     "data": {
      "text/plain": [
       "np.float64(35.93960717555288)"
      ]
     },
     "execution_count": 64,
     "metadata": {},
     "output_type": "execute_result"
    }
   ],
   "source": [
    "price_std = petrol['model'].std()\n",
    "st_e = price_std / (np.sqrt(len(df)))\n",
    "st_e"
   ]
  },
  {
   "cell_type": "code",
   "execution_count": null,
   "metadata": {},
   "outputs": [],
   "source": [
    "import statsmodels.stats.proportion as cfn"
   ]
  },
  {
   "cell_type": "code",
   "execution_count": null,
   "metadata": {},
   "outputs": [
    {
     "data": {
      "text/plain": [
       "22266"
      ]
     },
     "execution_count": 126,
     "metadata": {},
     "output_type": "execute_result"
    }
   ],
   "source": [
    "len(df)"
   ]
  },
  {
   "cell_type": "code",
   "execution_count": null,
   "metadata": {},
   "outputs": [
    {
     "data": {
      "text/plain": [
       "(0.5347286513249303, 0.5478187303332032)"
      ]
     },
     "execution_count": 130,
     "metadata": {},
     "output_type": "execute_result"
    }
   ],
   "source": [
    "confidence_interval = cfn.proportion_confint(\n",
    "    petrol.loc['Petrol'], \n",
    "    len(df),\n",
    "    alpha = 0.05,\n",
    "    method = 'normal'\n",
    ")\n",
    "\n",
    "confidence_interval\n",
    "# if the hypothesis is to find if the petrol car is between the confidence interval, Ho will be accepted"
   ]
  },
  {
   "cell_type": "code",
   "execution_count": null,
   "metadata": {},
   "outputs": [
    {
     "data": {
      "text/plain": [
       "np.float64(5362.834915726321)"
      ]
     },
     "execution_count": 102,
     "metadata": {},
     "output_type": "execute_result"
    }
   ],
   "source": [
    "petrol['model'].std()"
   ]
  },
  {
   "cell_type": "code",
   "execution_count": null,
   "metadata": {},
   "outputs": [
    {
     "data": {
      "text/plain": [
       "(model   -69.902891\n",
       " Name: Petrol, dtype: float64,\n",
       " model    70.985439\n",
       " Name: Petrol, dtype: float64)"
      ]
     },
     "execution_count": 71,
     "metadata": {},
     "output_type": "execute_result"
    }
   ],
   "source": [
    "dof = petrol['model'].sum() - 1\n",
    "tvalue = st.t.ppf(q = 1-(0.05/2), df=dof )\n",
    "\n",
    "price_std = petrol['model'].std()\n",
    "st_e = price_std / (np.sqrt(len(df)))\n",
    "\n",
    "conf_int_plus = mean_sample + (tvalue * st_e)\n",
    "conf_int_minus = mean_sample - (tvalue * st_e)\n",
    "\n",
    "conf_int_minus, conf_int_plus"
   ]
  },
  {
   "cell_type": "markdown",
   "metadata": {},
   "source": [
    "### one sample Z-test"
   ]
  },
  {
   "cell_type": "code",
   "execution_count": null,
   "metadata": {},
   "outputs": [],
   "source": [
    "'''\n",
    "Hypotheses:\n",
    "Ho : The proportion of cars using Petrol as fuelType is {percentage}\n",
    "Ha : The proportion of cars using Petrol as fuelType is not {percentage}\n",
    "'''"
   ]
  },
  {
   "cell_type": "code",
   "execution_count": null,
   "metadata": {},
   "outputs": [
    {
     "data": {
      "text/plain": [
       "np.float64(0.5412736908290667)"
      ]
     },
     "execution_count": 87,
     "metadata": {},
     "output_type": "execute_result"
    }
   ],
   "source": [
    "petrol = df[df['fuelType'] == 'Petrol']['model'].count()\n",
    "total = len(df)\n",
    "\n",
    "petrol/total"
   ]
  },
  {
   "cell_type": "code",
   "execution_count": null,
   "metadata": {},
   "outputs": [],
   "source": [
    "from statsmodels.stats.proportion import proportions_ztest"
   ]
  },
  {
   "cell_type": "code",
   "execution_count": 175,
   "metadata": {},
   "outputs": [],
   "source": [
    "percentage = 0.535"
   ]
  },
  {
   "cell_type": "code",
   "execution_count": 176,
   "metadata": {},
   "outputs": [],
   "source": [
    "stats, pvalue = proportions_ztest(count = petrol.loc['Petrol'],\n",
    "                  nobs = total,\n",
    "                  value = percentage,\n",
    "                  alternative='two-sided')"
   ]
  },
  {
   "cell_type": "code",
   "execution_count": 177,
   "metadata": {},
   "outputs": [
    {
     "name": "stdout",
     "output_type": "stream",
     "text": [
      "Pvalue = 0.060284583640771154. Pvalue > 0.05. Failed to reject the Ho.\n",
      "          Not enough evidence to prove that The proportion of cars using Petrol as fuelType is not 53.5%.\n"
     ]
    }
   ],
   "source": [
    "# conclusion\n",
    "if pvalue > 0.05:\n",
    "    # Ho\n",
    "    print(f\"\"\"Pvalue = {pvalue}. Pvalue > 0.05. Failed to reject the Ho.\n",
    "          Not enough evidence to prove that The proportion of cars using Petrol as fuelType is not {percentage * 100}%.\"\"\")\n",
    "    \n",
    "else:\n",
    "    # Ha\n",
    "    print(f\"\"\"Pvalue = {pvalue}. Pvalue < 0.05. Successfully reject the Ho.\n",
    "          There is enough evidence to prove that The proportion of cars using Petrol as fuelType is not {percentage * 100}%.\"\"\")"
   ]
  },
  {
   "attachments": {},
   "cell_type": "markdown",
   "metadata": {},
   "source": [
    "### **Referensi buku statistika:**\n",
    "\n",
    "- Statistics The Art and Science of Learning from Data (Agresti et al., 2018)\n",
    "- Businees Statistics for Contemporary Decision Making (Black, 2012)\n",
    "- Practical Statistics for Data Scientist (Bruce & Bruce, 2017)"
   ]
  }
 ],
 "metadata": {
  "kernelspec": {
   "display_name": "Python 3.10.5 ('pwdenv')",
   "language": "python",
   "name": "python3"
  },
  "language_info": {
   "codemirror_mode": {
    "name": "ipython",
    "version": 3
   },
   "file_extension": ".py",
   "mimetype": "text/x-python",
   "name": "python",
   "nbconvert_exporter": "python",
   "pygments_lexer": "ipython3",
   "version": "3.12.4"
  },
  "orig_nbformat": 4,
  "vscode": {
   "interpreter": {
    "hash": "26d83cb9ebc769f8a392797c85547e3220df367d4f886ed011b3f771d6a84444"
   }
  }
 },
 "nbformat": 4,
 "nbformat_minor": 2
}
